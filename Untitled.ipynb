{
 "cells": [
  {
   "cell_type": "markdown",
   "id": "daily-nelson",
   "metadata": {},
   "source": [
    "# JANE STREET MARKET PREDICTION FINAL PROJECT\n",
    "* This folder contains notebooks about sourcecode and report of Jane Street Market Prediction final project. The dataset had been excluded because of its big size.\n",
    "* Please open presentation.pdf for the detailed report. For more detail about sourcecode, please open sourcecode notebooks with Jupyter Notebooks or Jupyter Labs."
   ]
  },
  {
   "cell_type": "code",
   "execution_count": null,
   "id": "whole-albany",
   "metadata": {},
   "outputs": [],
   "source": []
  }
 ],
 "metadata": {
  "kernelspec": {
   "display_name": "Python 3",
   "language": "python",
   "name": "python3"
  },
  "language_info": {
   "codemirror_mode": {
    "name": "ipython",
    "version": 3
   },
   "file_extension": ".py",
   "mimetype": "text/x-python",
   "name": "python",
   "nbconvert_exporter": "python",
   "pygments_lexer": "ipython3",
   "version": "3.7.9"
  }
 },
 "nbformat": 4,
 "nbformat_minor": 5
}
